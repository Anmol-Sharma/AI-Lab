{
 "cells": [
  {
   "cell_type": "markdown",
   "metadata": {},
   "source": [
    "# PointNet\n",
    "\n",
    "Implemtation of the pointnet classifier model on the ModelNet10 dataset.\n",
    "\n",
    "Original paper :- https://arxiv.org/abs/1612.00593\n",
    "\n",
    "We have extended the dataset by adding certain random 90 degree rotations to the dataset and sampled 2048 points from each mesh. It can be found in `data/ModelNet10`"
   ]
  },
  {
   "cell_type": "code",
   "execution_count": 1,
   "metadata": {},
   "outputs": [],
   "source": [
    "import tensorflow as tf\n",
    "from tensorflow.keras.layers import Input, Dense, Dropout, BatchNormalization, Flatten, GlobalMaxPooling1D, Reshape, Dot, LeakyReLU\n",
    "from tensorflow.keras.models import Sequential, Model\n",
    "from tensorflow.keras.optimizers.legacy import Adam\n",
    "from tensorflow.keras.metrics import CategoricalAccuracy\n",
    "from tensorflow.keras.regularizers import Regularizer\n",
    "from tensorflow.keras.initializers import Constant\n",
    "\n",
    "from tqdm.notebook import tqdm\n",
    "import numpy as np\n",
    "from sys import platform\n",
    "import os\n",
    "import k3d"
   ]
  },
  {
   "cell_type": "markdown",
   "metadata": {},
   "source": [
    "## Set Backend Device"
   ]
  },
  {
   "cell_type": "code",
   "execution_count": 2,
   "metadata": {},
   "outputs": [
    {
     "name": "stdout",
     "output_type": "stream",
     "text": [
      "Default GPU Device: /device:GPU:0\n"
     ]
    },
    {
     "name": "stderr",
     "output_type": "stream",
     "text": [
      "2023-09-06 02:04:16.335338: I metal_plugin/src/device/metal_device.cc:1154] Metal device set to: Apple M2 Pro\n",
      "2023-09-06 02:04:16.335351: I metal_plugin/src/device/metal_device.cc:296] systemMemory: 16.00 GB\n",
      "2023-09-06 02:04:16.335360: I metal_plugin/src/device/metal_device.cc:313] maxCacheSize: 5.33 GB\n",
      "2023-09-06 02:04:16.335389: I tensorflow/core/common_runtime/pluggable_device/pluggable_device_factory.cc:303] Could not identify NUMA node of platform GPU ID 0, defaulting to 0. Your kernel may not have been built with NUMA support.\n",
      "2023-09-06 02:04:16.335403: I tensorflow/core/common_runtime/pluggable_device/pluggable_device_factory.cc:269] Created TensorFlow device (/device:GPU:0 with 0 MB memory) -> physical PluggableDevice (device: 0, name: METAL, pci bus id: <undefined>)\n",
      "2023-09-06 02:04:16.336274: I tensorflow/core/common_runtime/pluggable_device/pluggable_device_factory.cc:303] Could not identify NUMA node of platform GPU ID 0, defaulting to 0. Your kernel may not have been built with NUMA support.\n",
      "2023-09-06 02:04:16.336283: I tensorflow/core/common_runtime/pluggable_device/pluggable_device_factory.cc:269] Created TensorFlow device (/device:GPU:0 with 0 MB memory) -> physical PluggableDevice (device: 0, name: METAL, pci bus id: <undefined>)\n"
     ]
    }
   ],
   "source": [
    "if tf.test.gpu_device_name():\n",
    "    print(f'Default GPU Device: {tf.test.gpu_device_name()}')\n",
    "\n",
    "# Set usage to float32 to reduce memory usage\n",
    "tf.keras.backend.set_floatx('float32')"
   ]
  },
  {
   "cell_type": "code",
   "execution_count": 3,
   "metadata": {},
   "outputs": [],
   "source": [
    "BATCH_SIZE = 24\n",
    "EPOCHS = 6"
   ]
  },
  {
   "cell_type": "code",
   "execution_count": 4,
   "metadata": {},
   "outputs": [],
   "source": [
    "train_pcs = np.load(\"./data/ModelNet10/train_pc.npz\")\n",
    "test_pcs = np.load(\"./data/ModelNet10/test_pc.npz\")\n",
    "\n",
    "train_data, train_labels = train_pcs['train_pc'], train_pcs[\"train_labels\"]\n",
    "test_data, test_labels = test_pcs['test_pc'], test_pcs[\"test_labels\"]"
   ]
  },
  {
   "cell_type": "code",
   "execution_count": 5,
   "metadata": {},
   "outputs": [],
   "source": [
    "# Lookup table to encode Labels to be consumed by the model\n",
    "lookup = {\n",
    "    \"bed\": [0, 0, 0, 0, 0, 0, 0, 0, 0, 1],\n",
    "    \"bathtub\": [0, 0, 0, 0, 0, 0, 0, 0, 1, 0],\n",
    "    \"chair\": [0, 0, 0, 0, 0, 0, 0, 1, 0, 0],\n",
    "    \"desk\": [0, 0, 0, 0, 0, 0, 1, 0, 0, 0],\n",
    "    \"dresser\": [0, 0, 0, 0, 0, 1, 0, 0, 0, 0],\n",
    "    \"monitor\": [0, 0, 0, 0, 1, 0, 0, 0, 0, 0],\n",
    "    \"night_stand\": [0, 0, 0, 1, 0, 0, 0, 0, 0, 0],\n",
    "    \"sofa\": [0, 0, 1, 0, 0, 0, 0, 0, 0, 0],\n",
    "    \"table\": [0, 1, 0, 0, 0, 0, 0, 0, 0, 0],\n",
    "    \"toilet\": [1, 0, 0, 0, 0, 0, 0, 0, 0, 0]\n",
    "}\n",
    "\n",
    "train_labels = np.array([lookup[i] for i in train_labels])\n",
    "test_labels = np.array([lookup[i] for i in test_labels])"
   ]
  },
  {
   "cell_type": "code",
   "execution_count": 6,
   "metadata": {},
   "outputs": [],
   "source": [
    "# Regualizer for the T-net training\n",
    "class OrthogonalRegularizer(Regularizer):\n",
    "    def __init__(self, num_features, l2reg=0.001):\n",
    "        self.num_features = num_features\n",
    "        self.l2reg = l2reg\n",
    "        self.eye = tf.eye(num_features)\n",
    "\n",
    "    def __call__(self, x):\n",
    "        x = tf.reshape(x, (-1, self.num_features, self.num_features))\n",
    "        xxt = tf.tensordot(x, x, axes=(2, 2))\n",
    "        xxt = tf.reshape(xxt, (-1, self.num_features, self.num_features))\n",
    "        return tf.reduce_sum(self.l2reg * tf.square(xxt - self.eye))\n",
    "\n",
    "class PointNet:\n",
    "    def __init__(self, num_points, n_classes, batch_size, epochs, tnet_enabled = False):\n",
    "        self.num_points = num_points\n",
    "        self.batch_size = batch_size\n",
    "        self.epochs = epochs\n",
    "        self.n_classes = n_classes\n",
    "        self.tnet_enabled = tnet_enabled\n",
    "\n",
    "        #### INITIALIZE THE MODEL\n",
    "        self.max_pool_op = GlobalMaxPooling1D()\n",
    "\n",
    "        # Model\n",
    "        inp = Input(shape=(self.num_points, 3), name=\"Input\")\n",
    "        if self.tnet_enabled:\n",
    "            x = self.__t_net(inp, 3)\n",
    "            x = self.__build_pre_pool(x)\n",
    "        else:\n",
    "            x = self.__build_pre_pool(inp)\n",
    "        x = self.max_pool_op(x)\n",
    "        x = self.__build_post_pool(x)\n",
    "\n",
    "        self.model = Model(inp, x, name=\"PointNet\")\n",
    "        self.model.compile(loss=\"categorical_crossentropy\", optimizer = Adam(learning_rate=0.001), metrics=[CategoricalAccuracy()])\n",
    "        self.model.summary()\n",
    "\n",
    "    def predict(self, test_x):\n",
    "        return self.model.predict(test_x)\n",
    "    \n",
    "    def __dense_layer_op(self, x, units):\n",
    "        x = Dense(units)(x)\n",
    "        x = BatchNormalization(momentum = 0.7)(x)\n",
    "        return LeakyReLU()(x)\n",
    "    \n",
    "    def __t_net(self, inp, num_feats):\n",
    "        # Initalise bias as the indentity matrix\n",
    "        bias = Constant(np.eye(num_feats).flatten())\n",
    "        reg = OrthogonalRegularizer(num_feats)\n",
    "\n",
    "        tnet = self.__dense_layer_op(inp, 32)\n",
    "        tnet = self.__dense_layer_op(tnet, 64)\n",
    "        tnet = self.__dense_layer_op(tnet, 512)\n",
    "        tnet = GlobalMaxPooling1D()(tnet)\n",
    "        tnet = self.__dense_layer_op(tnet, 256)\n",
    "        tnet = self.__dense_layer_op(tnet, 128)\n",
    "        tnet = Dropout(0.6)(tnet)\n",
    "        tnet = Dense(\n",
    "            num_feats*num_feats,\n",
    "            kernel_initializer = \"zeros\",\n",
    "            bias_initializer = bias,\n",
    "            activity_regularizer=reg,\n",
    "        )(tnet)\n",
    "        \n",
    "        feat_trans = Reshape((num_feats,num_feats))\n",
    "        op = feat_trans(tnet)\n",
    "        return Dot(axes = (2, 1))([inp, op])\n",
    "\n",
    "    def train(self):\n",
    "        \"\"\"\n",
    "        Training Function which loads the data & trains the model\n",
    "        \"\"\"\n",
    "        # Shuffle\n",
    "        global train_data\n",
    "        global train_labels\n",
    "        global test_data\n",
    "        global test_labels\n",
    "\n",
    "        idcs = np.arange(len(test_data))\n",
    "        np.random.shuffle(idcs)\n",
    "        idcs = idcs[:int(len(test_data)*0.4)]\n",
    "\n",
    "        train_dataset = tf.data.Dataset.from_tensor_slices((train_data, train_labels))\\\n",
    "                                       .shuffle(len(train_data))\\\n",
    "                                       .batch(self.batch_size)\n",
    "        \n",
    "        test_dataset = tf.data.Dataset.from_tensor_slices((test_data[idcs], test_labels[idcs]))\\\n",
    "                                      .shuffle(len(idcs))\\\n",
    "                                      .batch(self.batch_size)\n",
    "        \n",
    "        self.model.fit(train_dataset, epochs=self.epochs, validation_data=test_dataset)\n",
    "\n",
    "    def __build_pre_pool(self, x):\n",
    "        \"\"\"\n",
    "            Helper function building the network section before pooling operation\n",
    "        \"\"\"\n",
    "        x = self.__dense_layer_op(x, 32)\n",
    "        x = self.__dense_layer_op(x, 32)\n",
    "        if self.tnet_enabled:\n",
    "            x = self.__t_net(x, 32)\n",
    "        x = self.__dense_layer_op(x, 32)\n",
    "        x = self.__dense_layer_op(x, 64)\n",
    "        x = self.__dense_layer_op(x, 512)\n",
    "        return x\n",
    "\n",
    "    def __build_post_pool(self, x):\n",
    "        \"\"\"\n",
    "            Helper function building the network section post pooling operation\n",
    "        \"\"\"\n",
    "        x = self.__dense_layer_op(x, 256)\n",
    "        x = Dropout(0.6)(x)\n",
    "        x = self.__dense_layer_op(x, 128)\n",
    "        x = Dropout(0.6)(x)\n",
    "        x = Dense(self.n_classes, activation = 'softmax')(x)\n",
    "        return x"
   ]
  },
  {
   "cell_type": "code",
   "execution_count": 7,
   "metadata": {},
   "outputs": [
    {
     "name": "stderr",
     "output_type": "stream",
     "text": [
      "2023-09-06 02:04:16.447310: I tensorflow/core/common_runtime/pluggable_device/pluggable_device_factory.cc:303] Could not identify NUMA node of platform GPU ID 0, defaulting to 0. Your kernel may not have been built with NUMA support.\n",
      "2023-09-06 02:04:16.447325: I tensorflow/core/common_runtime/pluggable_device/pluggable_device_factory.cc:269] Created TensorFlow device (/job:localhost/replica:0/task:0/device:GPU:0 with 0 MB memory) -> physical PluggableDevice (device: 0, name: METAL, pci bus id: <undefined>)\n"
     ]
    },
    {
     "name": "stdout",
     "output_type": "stream",
     "text": [
      "Model: \"PointNet\"\n",
      "__________________________________________________________________________________________________\n",
      " Layer (type)                Output Shape                 Param #   Connected to                  \n",
      "==================================================================================================\n",
      " Input (InputLayer)          [(None, 2048, 3)]            0         []                            \n",
      "                                                                                                  \n",
      " dense (Dense)               (None, 2048, 32)             128       ['Input[0][0]']               \n",
      "                                                                                                  \n",
      " batch_normalization (Batch  (None, 2048, 32)             128       ['dense[0][0]']               \n",
      " Normalization)                                                                                   \n",
      "                                                                                                  \n",
      " leaky_re_lu (LeakyReLU)     (None, 2048, 32)             0         ['batch_normalization[0][0]'] \n",
      "                                                                                                  \n",
      " dense_1 (Dense)             (None, 2048, 64)             2112      ['leaky_re_lu[0][0]']         \n",
      "                                                                                                  \n",
      " batch_normalization_1 (Bat  (None, 2048, 64)             256       ['dense_1[0][0]']             \n",
      " chNormalization)                                                                                 \n",
      "                                                                                                  \n",
      " leaky_re_lu_1 (LeakyReLU)   (None, 2048, 64)             0         ['batch_normalization_1[0][0]'\n",
      "                                                                    ]                             \n",
      "                                                                                                  \n",
      " dense_2 (Dense)             (None, 2048, 512)            33280     ['leaky_re_lu_1[0][0]']       \n",
      "                                                                                                  \n",
      " batch_normalization_2 (Bat  (None, 2048, 512)            2048      ['dense_2[0][0]']             \n",
      " chNormalization)                                                                                 \n",
      "                                                                                                  \n",
      " leaky_re_lu_2 (LeakyReLU)   (None, 2048, 512)            0         ['batch_normalization_2[0][0]'\n",
      "                                                                    ]                             \n",
      "                                                                                                  \n",
      " global_max_pooling1d_1 (Gl  (None, 512)                  0         ['leaky_re_lu_2[0][0]']       \n",
      " obalMaxPooling1D)                                                                                \n",
      "                                                                                                  \n",
      " dense_3 (Dense)             (None, 256)                  131328    ['global_max_pooling1d_1[0][0]\n",
      "                                                                    ']                            \n",
      "                                                                                                  \n",
      " batch_normalization_3 (Bat  (None, 256)                  1024      ['dense_3[0][0]']             \n",
      " chNormalization)                                                                                 \n",
      "                                                                                                  \n",
      " leaky_re_lu_3 (LeakyReLU)   (None, 256)                  0         ['batch_normalization_3[0][0]'\n",
      "                                                                    ]                             \n",
      "                                                                                                  \n",
      " dense_4 (Dense)             (None, 128)                  32896     ['leaky_re_lu_3[0][0]']       \n",
      "                                                                                                  \n",
      " batch_normalization_4 (Bat  (None, 128)                  512       ['dense_4[0][0]']             \n",
      " chNormalization)                                                                                 \n",
      "                                                                                                  \n",
      " leaky_re_lu_4 (LeakyReLU)   (None, 128)                  0         ['batch_normalization_4[0][0]'\n",
      "                                                                    ]                             \n",
      "                                                                                                  \n",
      " dropout (Dropout)           (None, 128)                  0         ['leaky_re_lu_4[0][0]']       \n",
      "                                                                                                  \n",
      " dense_5 (Dense)             (None, 9)                    1161      ['dropout[0][0]']             \n",
      "                                                                                                  \n",
      " reshape (Reshape)           (None, 3, 3)                 0         ['dense_5[0][0]']             \n",
      "                                                                                                  \n",
      " dot (Dot)                   (None, 2048, 3)              0         ['Input[0][0]',               \n",
      "                                                                     'reshape[0][0]']             \n",
      "                                                                                                  \n",
      " dense_6 (Dense)             (None, 2048, 32)             128       ['dot[0][0]']                 \n",
      "                                                                                                  \n",
      " batch_normalization_5 (Bat  (None, 2048, 32)             128       ['dense_6[0][0]']             \n",
      " chNormalization)                                                                                 \n",
      "                                                                                                  \n",
      " leaky_re_lu_5 (LeakyReLU)   (None, 2048, 32)             0         ['batch_normalization_5[0][0]'\n",
      "                                                                    ]                             \n",
      "                                                                                                  \n",
      " dense_7 (Dense)             (None, 2048, 32)             1056      ['leaky_re_lu_5[0][0]']       \n",
      "                                                                                                  \n",
      " batch_normalization_6 (Bat  (None, 2048, 32)             128       ['dense_7[0][0]']             \n",
      " chNormalization)                                                                                 \n",
      "                                                                                                  \n",
      " leaky_re_lu_6 (LeakyReLU)   (None, 2048, 32)             0         ['batch_normalization_6[0][0]'\n",
      "                                                                    ]                             \n",
      "                                                                                                  \n",
      " dense_8 (Dense)             (None, 2048, 32)             1056      ['leaky_re_lu_6[0][0]']       \n",
      "                                                                                                  \n",
      " batch_normalization_7 (Bat  (None, 2048, 32)             128       ['dense_8[0][0]']             \n",
      " chNormalization)                                                                                 \n",
      "                                                                                                  \n",
      " leaky_re_lu_7 (LeakyReLU)   (None, 2048, 32)             0         ['batch_normalization_7[0][0]'\n",
      "                                                                    ]                             \n",
      "                                                                                                  \n",
      " dense_9 (Dense)             (None, 2048, 64)             2112      ['leaky_re_lu_7[0][0]']       \n",
      "                                                                                                  \n",
      " batch_normalization_8 (Bat  (None, 2048, 64)             256       ['dense_9[0][0]']             \n",
      " chNormalization)                                                                                 \n",
      "                                                                                                  \n",
      " leaky_re_lu_8 (LeakyReLU)   (None, 2048, 64)             0         ['batch_normalization_8[0][0]'\n",
      "                                                                    ]                             \n",
      "                                                                                                  \n",
      " dense_10 (Dense)            (None, 2048, 512)            33280     ['leaky_re_lu_8[0][0]']       \n",
      "                                                                                                  \n",
      " batch_normalization_9 (Bat  (None, 2048, 512)            2048      ['dense_10[0][0]']            \n",
      " chNormalization)                                                                                 \n",
      "                                                                                                  \n",
      " leaky_re_lu_9 (LeakyReLU)   (None, 2048, 512)            0         ['batch_normalization_9[0][0]'\n",
      "                                                                    ]                             \n",
      "                                                                                                  \n",
      " global_max_pooling1d_2 (Gl  (None, 512)                  0         ['leaky_re_lu_9[0][0]']       \n",
      " obalMaxPooling1D)                                                                                \n",
      "                                                                                                  \n",
      " dense_11 (Dense)            (None, 256)                  131328    ['global_max_pooling1d_2[0][0]\n",
      "                                                                    ']                            \n",
      "                                                                                                  \n",
      " batch_normalization_10 (Ba  (None, 256)                  1024      ['dense_11[0][0]']            \n",
      " tchNormalization)                                                                                \n",
      "                                                                                                  \n",
      " leaky_re_lu_10 (LeakyReLU)  (None, 256)                  0         ['batch_normalization_10[0][0]\n",
      "                                                                    ']                            \n",
      "                                                                                                  \n",
      " dense_12 (Dense)            (None, 128)                  32896     ['leaky_re_lu_10[0][0]']      \n",
      "                                                                                                  \n",
      " batch_normalization_11 (Ba  (None, 128)                  512       ['dense_12[0][0]']            \n",
      " tchNormalization)                                                                                \n",
      "                                                                                                  \n",
      " leaky_re_lu_11 (LeakyReLU)  (None, 128)                  0         ['batch_normalization_11[0][0]\n",
      "                                                                    ']                            \n",
      "                                                                                                  \n",
      " dropout_1 (Dropout)         (None, 128)                  0         ['leaky_re_lu_11[0][0]']      \n",
      "                                                                                                  \n",
      " dense_13 (Dense)            (None, 1024)                 132096    ['dropout_1[0][0]']           \n",
      "                                                                                                  \n",
      " reshape_1 (Reshape)         (None, 32, 32)               0         ['dense_13[0][0]']            \n",
      "                                                                                                  \n",
      " dot_1 (Dot)                 (None, 2048, 32)             0         ['leaky_re_lu_6[0][0]',       \n",
      "                                                                     'reshape_1[0][0]']           \n",
      "                                                                                                  \n",
      " dense_14 (Dense)            (None, 2048, 32)             1056      ['dot_1[0][0]']               \n",
      "                                                                                                  \n",
      " batch_normalization_12 (Ba  (None, 2048, 32)             128       ['dense_14[0][0]']            \n",
      " tchNormalization)                                                                                \n",
      "                                                                                                  \n",
      " leaky_re_lu_12 (LeakyReLU)  (None, 2048, 32)             0         ['batch_normalization_12[0][0]\n",
      "                                                                    ']                            \n",
      "                                                                                                  \n",
      " dense_15 (Dense)            (None, 2048, 64)             2112      ['leaky_re_lu_12[0][0]']      \n",
      "                                                                                                  \n",
      " batch_normalization_13 (Ba  (None, 2048, 64)             256       ['dense_15[0][0]']            \n",
      " tchNormalization)                                                                                \n",
      "                                                                                                  \n",
      " leaky_re_lu_13 (LeakyReLU)  (None, 2048, 64)             0         ['batch_normalization_13[0][0]\n",
      "                                                                    ']                            \n",
      "                                                                                                  \n",
      " dense_16 (Dense)            (None, 2048, 512)            33280     ['leaky_re_lu_13[0][0]']      \n",
      "                                                                                                  \n",
      " batch_normalization_14 (Ba  (None, 2048, 512)            2048      ['dense_16[0][0]']            \n",
      " tchNormalization)                                                                                \n",
      "                                                                                                  \n",
      " leaky_re_lu_14 (LeakyReLU)  (None, 2048, 512)            0         ['batch_normalization_14[0][0]\n",
      "                                                                    ']                            \n",
      "                                                                                                  \n",
      " global_max_pooling1d (Glob  (None, 512)                  0         ['leaky_re_lu_14[0][0]']      \n",
      " alMaxPooling1D)                                                                                  \n",
      "                                                                                                  \n",
      " dense_17 (Dense)            (None, 256)                  131328    ['global_max_pooling1d[0][0]']\n",
      "                                                                                                  \n",
      " batch_normalization_15 (Ba  (None, 256)                  1024      ['dense_17[0][0]']            \n",
      " tchNormalization)                                                                                \n",
      "                                                                                                  \n",
      " leaky_re_lu_15 (LeakyReLU)  (None, 256)                  0         ['batch_normalization_15[0][0]\n",
      "                                                                    ']                            \n",
      "                                                                                                  \n",
      " dropout_2 (Dropout)         (None, 256)                  0         ['leaky_re_lu_15[0][0]']      \n",
      "                                                                                                  \n",
      " dense_18 (Dense)            (None, 128)                  32896     ['dropout_2[0][0]']           \n",
      "                                                                                                  \n",
      " batch_normalization_16 (Ba  (None, 128)                  512       ['dense_18[0][0]']            \n",
      " tchNormalization)                                                                                \n",
      "                                                                                                  \n",
      " leaky_re_lu_16 (LeakyReLU)  (None, 128)                  0         ['batch_normalization_16[0][0]\n",
      "                                                                    ']                            \n",
      "                                                                                                  \n",
      " dropout_3 (Dropout)         (None, 128)                  0         ['leaky_re_lu_16[0][0]']      \n",
      "                                                                                                  \n",
      " dense_19 (Dense)            (None, 10)                   1290      ['dropout_3[0][0]']           \n",
      "                                                                                                  \n",
      "==================================================================================================\n",
      "Total params: 748979 (2.86 MB)\n",
      "Trainable params: 742899 (2.83 MB)\n",
      "Non-trainable params: 6080 (23.75 KB)\n",
      "__________________________________________________________________________________________________\n"
     ]
    }
   ],
   "source": [
    "pt_net = PointNet(2048, 10, BATCH_SIZE, EPOCHS, tnet_enabled = True)"
   ]
  },
  {
   "cell_type": "code",
   "execution_count": 8,
   "metadata": {},
   "outputs": [
    {
     "name": "stdout",
     "output_type": "stream",
     "text": [
      "Epoch 1/6\n"
     ]
    },
    {
     "name": "stderr",
     "output_type": "stream",
     "text": [
      "2023-09-06 02:04:18.209821: I tensorflow/core/grappler/optimizers/custom_graph_optimizer_registry.cc:114] Plugin optimizer for device_type GPU is enabled.\n"
     ]
    },
    {
     "name": "stdout",
     "output_type": "stream",
     "text": [
      "333/333 [==============================] - ETA: 0s - loss: 2.5594 - categorical_accuracy: 0.5277"
     ]
    },
    {
     "name": "stderr",
     "output_type": "stream",
     "text": [
      "2023-09-06 02:05:15.504297: I tensorflow/core/grappler/optimizers/custom_graph_optimizer_registry.cc:114] Plugin optimizer for device_type GPU is enabled.\n"
     ]
    },
    {
     "name": "stdout",
     "output_type": "stream",
     "text": [
      "333/333 [==============================] - 60s 170ms/step - loss: 2.5594 - categorical_accuracy: 0.5277 - val_loss: 1.8238 - val_categorical_accuracy: 0.6997\n",
      "Epoch 2/6\n",
      "333/333 [==============================] - 54s 163ms/step - loss: 1.8525 - categorical_accuracy: 0.6794 - val_loss: 1.6496 - val_categorical_accuracy: 0.7493\n",
      "Epoch 3/6\n",
      "333/333 [==============================] - 54s 163ms/step - loss: 1.6422 - categorical_accuracy: 0.7339 - val_loss: 1.5527 - val_categorical_accuracy: 0.7713\n",
      "Epoch 4/6\n",
      "333/333 [==============================] - 54s 164ms/step - loss: 1.5415 - categorical_accuracy: 0.7595 - val_loss: 1.4330 - val_categorical_accuracy: 0.8264\n",
      "Epoch 5/6\n",
      "333/333 [==============================] - 55s 164ms/step - loss: 1.4143 - categorical_accuracy: 0.7830 - val_loss: 1.4101 - val_categorical_accuracy: 0.8347\n",
      "Epoch 6/6\n",
      "333/333 [==============================] - 54s 163ms/step - loss: 1.3538 - categorical_accuracy: 0.8047 - val_loss: 1.4058 - val_categorical_accuracy: 0.8430\n"
     ]
    }
   ],
   "source": [
    "pt_net.train()"
   ]
  },
  {
   "cell_type": "markdown",
   "metadata": {},
   "source": [
    "## T-NET Disabled\n",
    "\n",
    "We also have the option to disable T-net modules in our model"
   ]
  },
  {
   "cell_type": "code",
   "execution_count": 10,
   "metadata": {},
   "outputs": [
    {
     "name": "stdout",
     "output_type": "stream",
     "text": [
      "Model: \"PointNet\"\n",
      "_________________________________________________________________\n",
      " Layer (type)                Output Shape              Param #   \n",
      "=================================================================\n",
      " Input (InputLayer)          [(None, 2048, 3)]         0         \n",
      "                                                                 \n",
      " dense_20 (Dense)            (None, 2048, 32)          128       \n",
      "                                                                 \n",
      " batch_normalization_17 (Ba  (None, 2048, 32)          128       \n",
      " tchNormalization)                                               \n",
      "                                                                 \n",
      " leaky_re_lu_17 (LeakyReLU)  (None, 2048, 32)          0         \n",
      "                                                                 \n",
      " dense_21 (Dense)            (None, 2048, 32)          1056      \n",
      "                                                                 \n",
      " batch_normalization_18 (Ba  (None, 2048, 32)          128       \n",
      " tchNormalization)                                               \n",
      "                                                                 \n",
      " leaky_re_lu_18 (LeakyReLU)  (None, 2048, 32)          0         \n",
      "                                                                 \n",
      " dense_22 (Dense)            (None, 2048, 32)          1056      \n",
      "                                                                 \n",
      " batch_normalization_19 (Ba  (None, 2048, 32)          128       \n",
      " tchNormalization)                                               \n",
      "                                                                 \n",
      " leaky_re_lu_19 (LeakyReLU)  (None, 2048, 32)          0         \n",
      "                                                                 \n",
      " dense_23 (Dense)            (None, 2048, 64)          2112      \n",
      "                                                                 \n",
      " batch_normalization_20 (Ba  (None, 2048, 64)          256       \n",
      " tchNormalization)                                               \n",
      "                                                                 \n",
      " leaky_re_lu_20 (LeakyReLU)  (None, 2048, 64)          0         \n",
      "                                                                 \n",
      " dense_24 (Dense)            (None, 2048, 512)         33280     \n",
      "                                                                 \n",
      " batch_normalization_21 (Ba  (None, 2048, 512)         2048      \n",
      " tchNormalization)                                               \n",
      "                                                                 \n",
      " leaky_re_lu_21 (LeakyReLU)  (None, 2048, 512)         0         \n",
      "                                                                 \n",
      " global_max_pooling1d_3 (Gl  (None, 512)               0         \n",
      " obalMaxPooling1D)                                               \n",
      "                                                                 \n",
      " dense_25 (Dense)            (None, 256)               131328    \n",
      "                                                                 \n",
      " batch_normalization_22 (Ba  (None, 256)               1024      \n",
      " tchNormalization)                                               \n",
      "                                                                 \n",
      " leaky_re_lu_22 (LeakyReLU)  (None, 256)               0         \n",
      "                                                                 \n",
      " dropout_4 (Dropout)         (None, 256)               0         \n",
      "                                                                 \n",
      " dense_26 (Dense)            (None, 128)               32896     \n",
      "                                                                 \n",
      " batch_normalization_23 (Ba  (None, 128)               512       \n",
      " tchNormalization)                                               \n",
      "                                                                 \n",
      " leaky_re_lu_23 (LeakyReLU)  (None, 128)               0         \n",
      "                                                                 \n",
      " dropout_5 (Dropout)         (None, 128)               0         \n",
      "                                                                 \n",
      " dense_27 (Dense)            (None, 10)                1290      \n",
      "                                                                 \n",
      "=================================================================\n",
      "Total params: 207370 (810.04 KB)\n",
      "Trainable params: 205258 (801.79 KB)\n",
      "Non-trainable params: 2112 (8.25 KB)\n",
      "_________________________________________________________________\n"
     ]
    }
   ],
   "source": [
    "pt_net2 = PointNet(2048, 10, BATCH_SIZE, EPOCHS, tnet_enabled = False)"
   ]
  },
  {
   "cell_type": "code",
   "execution_count": 11,
   "metadata": {},
   "outputs": [
    {
     "name": "stdout",
     "output_type": "stream",
     "text": [
      "Epoch 1/6\n"
     ]
    },
    {
     "name": "stderr",
     "output_type": "stream",
     "text": [
      "2023-09-06 02:09:50.012319: I tensorflow/core/grappler/optimizers/custom_graph_optimizer_registry.cc:114] Plugin optimizer for device_type GPU is enabled.\n"
     ]
    },
    {
     "name": "stdout",
     "output_type": "stream",
     "text": [
      "333/333 [==============================] - ETA: 0s - loss: 1.1221 - categorical_accuracy: 0.6470"
     ]
    },
    {
     "name": "stderr",
     "output_type": "stream",
     "text": [
      "2023-09-06 02:10:13.282001: I tensorflow/core/grappler/optimizers/custom_graph_optimizer_registry.cc:114] Plugin optimizer for device_type GPU is enabled.\n"
     ]
    },
    {
     "name": "stdout",
     "output_type": "stream",
     "text": [
      "333/333 [==============================] - 25s 69ms/step - loss: 1.1221 - categorical_accuracy: 0.6470 - val_loss: 0.5520 - val_categorical_accuracy: 0.8320\n",
      "Epoch 2/6\n",
      "333/333 [==============================] - 21s 64ms/step - loss: 0.5967 - categorical_accuracy: 0.8064 - val_loss: 0.3975 - val_categorical_accuracy: 0.8678\n",
      "Epoch 3/6\n",
      "333/333 [==============================] - 22s 66ms/step - loss: 0.4753 - categorical_accuracy: 0.8447 - val_loss: 0.3648 - val_categorical_accuracy: 0.8788\n",
      "Epoch 4/6\n",
      "333/333 [==============================] - 22s 65ms/step - loss: 0.4218 - categorical_accuracy: 0.8599 - val_loss: 0.3581 - val_categorical_accuracy: 0.8843\n",
      "Epoch 5/6\n",
      "333/333 [==============================] - 21s 64ms/step - loss: 0.3659 - categorical_accuracy: 0.8776 - val_loss: 0.3127 - val_categorical_accuracy: 0.8871\n",
      "Epoch 6/6\n",
      "333/333 [==============================] - 21s 64ms/step - loss: 0.3452 - categorical_accuracy: 0.8816 - val_loss: 0.3361 - val_categorical_accuracy: 0.8788\n"
     ]
    }
   ],
   "source": [
    "pt_net2.train()"
   ]
  },
  {
   "cell_type": "code",
   "execution_count": null,
   "metadata": {},
   "outputs": [],
   "source": [
    "if platform == \"darwin\":\n",
    "    os.system(\"say 'Model Training DONE!'\")"
   ]
  }
 ],
 "metadata": {
  "kernelspec": {
   "display_name": "Python 3 (ipykernel)",
   "language": "python",
   "name": "python3"
  },
  "language_info": {
   "codemirror_mode": {
    "name": "ipython",
    "version": 3
   },
   "file_extension": ".py",
   "mimetype": "text/x-python",
   "name": "python",
   "nbconvert_exporter": "python",
   "pygments_lexer": "ipython3",
   "version": "3.11.5"
  }
 },
 "nbformat": 4,
 "nbformat_minor": 4
}
